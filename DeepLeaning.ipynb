{
 "cells": [
  {
   "cell_type": "code",
   "execution_count": 1,
   "metadata": {},
   "outputs": [],
   "source": [
    "import pandas as pd\n",
    "import numpy as np\n",
    "import tensorflow as tf\n",
    "from tensorflow import keras\n",
    "from numpy import array\n",
    "from keras.preprocessing.text import one_hot\n",
    "from keras.preprocessing.text import Tokenizer\n",
    "from keras.preprocessing.sequence import pad_sequences\n",
    "from keras.models import Sequential\n",
    "from keras.layers import Dense , LSTM ,Dropout ,SpatialDropout1D\n",
    "from keras.layers import Flatten\n",
    "from keras.layers.embeddings import Embedding\n",
    "from keras.callbacks import EarlyStopping ,  ModelCheckpoint\n",
    "from sklearn.model_selection import train_test_split"
   ]
  },
  {
   "cell_type": "code",
   "execution_count": 2,
   "metadata": {},
   "outputs": [
    {
     "data": {
      "text/html": [
       "<div>\n",
       "<style scoped>\n",
       "    .dataframe tbody tr th:only-of-type {\n",
       "        vertical-align: middle;\n",
       "    }\n",
       "\n",
       "    .dataframe tbody tr th {\n",
       "        vertical-align: top;\n",
       "    }\n",
       "\n",
       "    .dataframe thead th {\n",
       "        text-align: right;\n",
       "    }\n",
       "</style>\n",
       "<table border=\"1\" class=\"dataframe\">\n",
       "  <thead>\n",
       "    <tr style=\"text-align: right;\">\n",
       "      <th></th>\n",
       "      <th>Final_Text</th>\n",
       "      <th>Category</th>\n",
       "    </tr>\n",
       "  </thead>\n",
       "  <tbody>\n",
       "    <tr>\n",
       "      <th>0</th>\n",
       "      <td>work picasso others stolen spain picasso art s...</td>\n",
       "      <td>Art</td>\n",
       "    </tr>\n",
       "    <tr>\n",
       "      <th>1</th>\n",
       "      <td>salwa maged art corner gallery exhibiting pain...</td>\n",
       "      <td>Art</td>\n",
       "    </tr>\n",
       "    <tr>\n",
       "      <th>2</th>\n",
       "      <td>tribute abdalla gohar 1 december khan al maghr...</td>\n",
       "      <td>Art</td>\n",
       "    </tr>\n",
       "    <tr>\n",
       "      <th>3</th>\n",
       "      <td>raw untamed compelling âfleshâ samir fouad...</td>\n",
       "      <td>Art</td>\n",
       "    </tr>\n",
       "    <tr>\n",
       "      <th>4</th>\n",
       "      <td>water mosaic gezira centre modern art exhibit ...</td>\n",
       "      <td>Art</td>\n",
       "    </tr>\n",
       "    <tr>\n",
       "      <th>...</th>\n",
       "      <td>...</td>\n",
       "      <td>...</td>\n",
       "    </tr>\n",
       "    <tr>\n",
       "      <th>30432</th>\n",
       "      <td>germany bundesliga result scorer 21st matchday...</td>\n",
       "      <td>sports</td>\n",
       "    </tr>\n",
       "    <tr>\n",
       "      <th>30433</th>\n",
       "      <td>barcelona go fourth winning sixgoal thriller a...</td>\n",
       "      <td>sports</td>\n",
       "    </tr>\n",
       "    <tr>\n",
       "      <th>30434</th>\n",
       "      <td>dortmund humiliated leverkusen haalands absenc...</td>\n",
       "      <td>sports</td>\n",
       "    </tr>\n",
       "    <tr>\n",
       "      <th>30435</th>\n",
       "      <td>back injury 1st liverpool goal teen elliott cu...</td>\n",
       "      <td>sports</td>\n",
       "    </tr>\n",
       "    <tr>\n",
       "      <th>30436</th>\n",
       "      <td>manchester city chelsea spur get favourable fa...</td>\n",
       "      <td>sports</td>\n",
       "    </tr>\n",
       "  </tbody>\n",
       "</table>\n",
       "<p>30437 rows × 2 columns</p>\n",
       "</div>"
      ],
      "text/plain": [
       "                                              Final_Text Category\n",
       "0      work picasso others stolen spain picasso art s...      Art\n",
       "1      salwa maged art corner gallery exhibiting pain...      Art\n",
       "2      tribute abdalla gohar 1 december khan al maghr...      Art\n",
       "3      raw untamed compelling âfleshâ samir fouad...      Art\n",
       "4      water mosaic gezira centre modern art exhibit ...      Art\n",
       "...                                                  ...      ...\n",
       "30432  germany bundesliga result scorer 21st matchday...   sports\n",
       "30433  barcelona go fourth winning sixgoal thriller a...   sports\n",
       "30434  dortmund humiliated leverkusen haalands absenc...   sports\n",
       "30435  back injury 1st liverpool goal teen elliott cu...   sports\n",
       "30436  manchester city chelsea spur get favourable fa...   sports\n",
       "\n",
       "[30437 rows x 2 columns]"
      ]
     },
     "execution_count": 2,
     "metadata": {},
     "output_type": "execute_result"
    }
   ],
   "source": [
    "df = pd.read_csv('final_processed_df.csv').drop(columns=['Unnamed: 0'])\n",
    "df"
   ]
  },
  {
   "cell_type": "code",
   "execution_count": 3,
   "metadata": {},
   "outputs": [
    {
     "name": "stdout",
     "output_type": "stream",
     "text": [
      "Unique Tokens are: 30036\n"
     ]
    }
   ],
   "source": [
    "epochs = 10\n",
    "emb_dim = 100\n",
    "batch_size = 256\n",
    "n_most_common_words = 80000\n",
    "max_len = 250\n",
    "\n",
    "\n",
    "tokenizer = Tokenizer(num_words=n_most_common_words, filters='!\"#$%&()*+,-./:;<=>?@[\\]^_`{|}~', lower=True)\n",
    "tokenizer.fit_on_texts(df['Final_Text'].values)\n",
    "\n",
    "word_index = tokenizer.word_index\n",
    "print(\"Unique Tokens are:\",len(word_index))"
   ]
  },
  {
   "cell_type": "code",
   "execution_count": 4,
   "metadata": {},
   "outputs": [
    {
     "name": "stdout",
     "output_type": "stream",
     "text": [
      "Shape of data tensor (30437, 250)\n"
     ]
    }
   ],
   "source": [
    "X = tokenizer.texts_to_sequences(df['Final_Text'].values)\n",
    "X = pad_sequences(X , maxlen=max_len)\n",
    "print(\"Shape of data tensor\",X.shape)"
   ]
  },
  {
   "cell_type": "code",
   "execution_count": 6,
   "metadata": {},
   "outputs": [
    {
     "name": "stdout",
     "output_type": "stream",
     "text": [
      "Shape of label tensor (30437, 3)\n"
     ]
    }
   ],
   "source": [
    "Y = pd.get_dummies(df['Category']).values\n",
    "print(\"Shape of label tensor\",Y.shape)"
   ]
  },
  {
   "cell_type": "code",
   "execution_count": 7,
   "metadata": {},
   "outputs": [
    {
     "name": "stdout",
     "output_type": "stream",
     "text": [
      "(27393, 250) (3044, 250) (27393, 3) (3044, 3)\n"
     ]
    }
   ],
   "source": [
    "X_train, X_test, y_train, y_test = train_test_split(X, Y,  test_size=0.1, random_state=42)\n",
    "print(X_train.shape, X_test.shape, y_train.shape, y_test.shape)"
   ]
  },
  {
   "cell_type": "code",
   "execution_count": 8,
   "metadata": {},
   "outputs": [
    {
     "name": "stdout",
     "output_type": "stream",
     "text": [
      "Model: \"sequential\"\n",
      "_________________________________________________________________\n",
      " Layer (type)                Output Shape              Param #   \n",
      "=================================================================\n",
      " embedding (Embedding)       (None, 250, 100)          8000100   \n",
      "                                                                 \n",
      " spatial_dropout1d (SpatialD  (None, 250, 100)         0         \n",
      " ropout1D)                                                       \n",
      "                                                                 \n",
      " lstm (LSTM)                 (None, 100)               80400     \n",
      "                                                                 \n",
      " dense (Dense)               (None, 3)                 303       \n",
      "                                                                 \n",
      "=================================================================\n",
      "Total params: 8,080,803\n",
      "Trainable params: 8,080,803\n",
      "Non-trainable params: 0\n",
      "_________________________________________________________________\n",
      "None\n"
     ]
    }
   ],
   "source": [
    "model = Sequential()\n",
    "model.add(Embedding(n_most_common_words+1,emb_dim,input_length=X.shape[1]))\n",
    "model.add(SpatialDropout1D(0.4))\n",
    "model.add(LSTM(100,dropout=0.2,recurrent_dropout=0.2))\n",
    "model.add(Dense(3,activation='softmax'))\n",
    "model.compile(loss='categorical_crossentropy' , optimizer='adam' ,metrics=['accuracy'])\n",
    "print(model.summary())"
   ]
  },
  {
   "cell_type": "code",
   "execution_count": 9,
   "metadata": {},
   "outputs": [],
   "source": [
    "my_callbacks=[  EarlyStopping(monitor = 'val_loss',min_delta = 0,patience = 2,verbose = 1,restore_best_weights = True) ,\n",
    "                ModelCheckpoint(filepath='model.{epoch:02d}-{val_loss:.2f}.h5',monitor='val_loss',mode='min',save_best_only=True,verbose=1)  ]\n"
   ]
  },
  {
   "cell_type": "code",
   "execution_count": 10,
   "metadata": {},
   "outputs": [
    {
     "name": "stdout",
     "output_type": "stream",
     "text": [
      "Epoch 1/5\n",
      "215/215 [==============================] - ETA: 0s - loss: 0.2969 - accuracy: 0.8832\n",
      "Epoch 00001: val_loss improved from inf to 0.07374, saving model to model.01-0.07.h5\n",
      "215/215 [==============================] - 781s 4s/step - loss: 0.2969 - accuracy: 0.8832 - val_loss: 0.0737 - val_accuracy: 0.9754\n",
      "Epoch 2/5\n",
      "215/215 [==============================] - ETA: 0s - loss: 0.0341 - accuracy: 0.9910\n",
      "Epoch 00002: val_loss improved from 0.07374 to 0.03941, saving model to model.02-0.04.h5\n",
      "215/215 [==============================] - 811s 4s/step - loss: 0.0341 - accuracy: 0.9910 - val_loss: 0.0394 - val_accuracy: 0.9872\n",
      "Epoch 3/5\n",
      "215/215 [==============================] - ETA: 0s - loss: 0.0147 - accuracy: 0.9969\n",
      "Epoch 00003: val_loss improved from 0.03941 to 0.03024, saving model to model.03-0.03.h5\n",
      "215/215 [==============================] - 820s 4s/step - loss: 0.0147 - accuracy: 0.9969 - val_loss: 0.0302 - val_accuracy: 0.9888\n",
      "Epoch 4/5\n",
      "215/215 [==============================] - ETA: 0s - loss: 0.0042 - accuracy: 0.9993\n",
      "Epoch 00004: val_loss did not improve from 0.03024\n",
      "215/215 [==============================] - 921s 4s/step - loss: 0.0042 - accuracy: 0.9993 - val_loss: 0.0305 - val_accuracy: 0.9908\n",
      "Epoch 5/5\n",
      "215/215 [==============================] - ETA: 0s - loss: 0.0022 - accuracy: 0.9996Restoring model weights from the end of the best epoch: 3.\n",
      "\n",
      "Epoch 00005: val_loss did not improve from 0.03024\n",
      "215/215 [==============================] - 808s 4s/step - loss: 0.0022 - accuracy: 0.9996 - val_loss: 0.0319 - val_accuracy: 0.9898\n",
      "Epoch 00005: early stopping\n"
     ]
    }
   ],
   "source": [
    "history = model.fit(X_train,y_train,validation_data=(X_test,y_test),epochs=5,batch_size=128, callbacks=my_callbacks)\n"
   ]
  },
  {
   "cell_type": "code",
   "execution_count": 13,
   "metadata": {},
   "outputs": [
    {
     "data": {
      "image/png": "[encoded data removed]",
      "text/plain": [
       "<Figure size 288x216 with 1 Axes>"
      ]
     },
     "metadata": {
      "needs_background": "light"
     },
     "output_type": "display_data"
    }
   ],
   "source": [
    "import matplotlib.pyplot as plt\n",
    "model_history = pd.DataFrame(history.history)\n",
    "model_history['epoch'] = history.epoch\n",
    "\n",
    "fig, ax = plt.subplots(1, figsize=(4,3))\n",
    "num_epochs = model_history.shape[0]\n",
    "\n",
    "ax.plot(np.arange(0, num_epochs), model_history[\"accuracy\"], \n",
    "        label=\"Training ADAM\")\n",
    "ax.plot(np.arange(0, num_epochs), model_history[\"val_accuracy\"], \n",
    "        label=\"Validation ADAM\")\n",
    "ax.legend()\n",
    "\n",
    "plt.tight_layout()\n",
    "plt.show()"
   ]
  },
  {
   "cell_type": "code",
   "execution_count": 14,
   "metadata": {},
   "outputs": [
    {
     "data": {
      "image/png": "[encoded data removed]",
      "text/plain": [
       "<Figure size 432x288 with 1 Axes>"
      ]
     },
     "metadata": {
      "needs_background": "light"
     },
     "output_type": "display_data"
    }
   ],
   "source": [
    "fig, ax = plt.subplots(1, figsize=(6,4))\n",
    "num_epochs = model_history.shape[0]\n",
    "\n",
    "ax.plot(np.arange(0, num_epochs), model_history[\"loss\"], \n",
    "        label=\"Training loss\")\n",
    "ax.plot(np.arange(0, num_epochs), model_history[\"val_loss\"], \n",
    "        label=\"Validation loss\")\n",
    "ax.legend()\n",
    "\n",
    "plt.tight_layout()\n",
    "plt.show()"
   ]
  },
  {
   "cell_type": "code",
   "execution_count": 15,
   "metadata": {},
   "outputs": [
    {
     "name": "stdout",
     "output_type": "stream",
     "text": [
      "96/96 [==============================] - 12s 128ms/step - loss: 0.0302 - accuracy: 0.9888\n",
      "Test set\n",
      "  Loss: 0.030\n",
      "  Accuracy: 0.989\n"
     ]
    }
   ],
   "source": [
    "accr = model.evaluate(X_test,y_test)\n",
    "print('Test set\\n  Loss: {:0.3f}\\n  Accuracy: {:0.3f}'.format(accr[0],accr[1]))\n"
   ]
  },
  {
   "cell_type": "code",
   "execution_count": 19,
   "metadata": {},
   "outputs": [
    {
     "name": "stdout",
     "output_type": "stream",
     "text": [
      "[[0.00325569 0.00114436 0.9956    ]] Sports\n"
     ]
    }
   ],
   "source": [
    "#txt = [\"The speed and determination with which Europe initially acted startled even old hands in Brussels. Previous crises\"]\n",
    "txt=[\" Football in Russia is crashing and isolation can only hasten its declineJonathan WilsonRussia’s pariah status spells disaster for its clubs and national team\"]\n",
    "seq = tokenizer.texts_to_sequences(txt)\n",
    "padded = pad_sequences(seq, maxlen=max_len)\n",
    "pred = model.predict(padded)\n",
    "labels=[\"Art\",\"Economy\",\"Sports\"]\n",
    "\n",
    "print(pred, labels[np.argmax(pred)])"
   ]
  },
  {
   "cell_type": "code",
   "execution_count": null,
   "metadata": {},
   "outputs": [],
   "source": []
  }
 ],
 "metadata": {
  "kernelspec": {
   "display_name": "Python 3",
   "language": "python",
   "name": "python3"
  },
  "language_info": {
   "codemirror_mode": {
    "name": "ipython",
    "version": 3
   },
   "file_extension": ".py",
   "mimetype": "text/x-python",
   "name": "python",
   "nbconvert_exporter": "python",
   "pygments_lexer": "ipython3",
   "version": "3.8.5"
  }
 },
 "nbformat": 4,
 "nbformat_minor": 4
}
