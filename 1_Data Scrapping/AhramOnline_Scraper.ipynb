{
 "cells": [
  {
   "cell_type": "markdown",
   "metadata": {},
   "source": [
    "# Import needed libraries"
   ]
  },
  {
   "cell_type": "code",
   "execution_count": 239,
   "metadata": {},
   "outputs": [],
   "source": [
    "import requests\n",
    "from bs4 import BeautifulSoup\n",
    "import csv\n",
    "import pandas as pd"
   ]
  },
  {
   "cell_type": "markdown",
   "metadata": {},
   "source": [
    "# Get all the page Content"
   ]
  },
  {
   "cell_type": "code",
   "execution_count": 240,
   "metadata": {},
   "outputs": [],
   "source": [
    "src = requests.get(\"https://english.ahram.org.eg/AllCategory/5/159/Arts--Culture/Entertainment/0.aspx\").content\n",
    "soup= BeautifulSoup(src , \"lxml\")"
   ]
  },
  {
   "cell_type": "markdown",
   "metadata": {},
   "source": [
    "# Select some specific needed tags"
   ]
  },
  {
   "cell_type": "code",
   "execution_count": 241,
   "metadata": {},
   "outputs": [],
   "source": [
    "#article_src=[]\n",
    "#articles_src =soup.find_all(\"div\",{\"class\":\"num_result\"})\n",
    "\n",
    "article_title=[]\n",
    "articles_title= soup.find_all(\"div\",{\"class\":\"col-md-12 col-lg-12 mar-top-outer\"})\n",
    "\n",
    "#article_date=[]\n",
    "#articles_date= soup.find_all(\"div\",{\"class\":\"name_result\"})\n",
    "\n",
    "links=[]\n"
   ]
  },
  {
   "cell_type": "markdown",
   "metadata": {},
   "source": [
    "# Extract only text from the scaped data"
   ]
  },
  {
   "cell_type": "code",
   "execution_count": 242,
   "metadata": {},
   "outputs": [],
   "source": [
    "for i in range(len(articles_title)):\n",
    "    article_title.append(articles_title[i].text)\n",
    "\n"
   ]
  },
  {
   "cell_type": "code",
   "execution_count": 243,
   "metadata": {},
   "outputs": [
    {
     "data": {
      "text/html": [
       "<div>\n",
       "<style scoped>\n",
       "    .dataframe tbody tr th:only-of-type {\n",
       "        vertical-align: middle;\n",
       "    }\n",
       "\n",
       "    .dataframe tbody tr th {\n",
       "        vertical-align: top;\n",
       "    }\n",
       "\n",
       "    .dataframe thead th {\n",
       "        text-align: right;\n",
       "    }\n",
       "</style>\n",
       "<table border=\"1\" class=\"dataframe\">\n",
       "  <thead>\n",
       "    <tr style=\"text-align: right;\">\n",
       "      <th></th>\n",
       "      <th>Article Title</th>\n",
       "      <th>Category</th>\n",
       "    </tr>\n",
       "  </thead>\n",
       "  <tbody>\n",
       "    <tr>\n",
       "      <th>0</th>\n",
       "      <td>Aroma Studios reveal poster of Ramadan TV seri...</td>\n",
       "      <td>Art</td>\n",
       "    </tr>\n",
       "    <tr>\n",
       "      <th>1</th>\n",
       "      <td>Netflix to launch new Arabic production with E...</td>\n",
       "      <td>Art</td>\n",
       "    </tr>\n",
       "    <tr>\n",
       "      <th>2</th>\n",
       "      <td>'Dark Shadows,' 'Lethal Weapon' actor Mitchell...</td>\n",
       "      <td>Art</td>\n",
       "    </tr>\n",
       "    <tr>\n",
       "      <th>3</th>\n",
       "      <td>INTERVIEW: Greek architect Tilemachos Andriano...</td>\n",
       "      <td>Art</td>\n",
       "    </tr>\n",
       "    <tr>\n",
       "      <th>4</th>\n",
       "      <td>Egypt’s streaming platform Watchit reveals con...</td>\n",
       "      <td>Art</td>\n",
       "    </tr>\n",
       "    <tr>\n",
       "      <th>5</th>\n",
       "      <td>'CODA' takes top honors at SAG Awards, Will Sm...</td>\n",
       "      <td>Art</td>\n",
       "    </tr>\n",
       "    <tr>\n",
       "      <th>6</th>\n",
       "      <td>Egyptian megastar Amr Diab announces Anghami a...</td>\n",
       "      <td>Art</td>\n",
       "    </tr>\n",
       "    <tr>\n",
       "      <th>7</th>\n",
       "      <td>Fans surprised as Egyptian pop icon Amr Diab r...</td>\n",
       "      <td>Art</td>\n",
       "    </tr>\n",
       "    <tr>\n",
       "      <th>8</th>\n",
       "      <td>Scottish actor Gerard Butler enjoys vacation i...</td>\n",
       "      <td>Art</td>\n",
       "    </tr>\n",
       "    <tr>\n",
       "      <th>9</th>\n",
       "      <td>Hend Sabry’s Finding Ola continues to soar amo...</td>\n",
       "      <td>Art</td>\n",
       "    </tr>\n",
       "    <tr>\n",
       "      <th>10</th>\n",
       "      <td>Egypt’s new talent show El-Dome kicks-off with...</td>\n",
       "      <td>Art</td>\n",
       "    </tr>\n",
       "    <tr>\n",
       "      <th>11</th>\n",
       "      <td>Rogan dispute draws Spotify into content liabi...</td>\n",
       "      <td>Art</td>\n",
       "    </tr>\n",
       "    <tr>\n",
       "      <th>12</th>\n",
       "      <td>Original 'Fight Club' ending restored in China...</td>\n",
       "      <td>Art</td>\n",
       "    </tr>\n",
       "    <tr>\n",
       "      <th>13</th>\n",
       "      <td>Hend Sabry’s TV series ‘Finding Ola’ top trend...</td>\n",
       "      <td>Art</td>\n",
       "    </tr>\n",
       "    <tr>\n",
       "      <th>14</th>\n",
       "      <td>Spotify to link virus content to Covid facts a...</td>\n",
       "      <td>Art</td>\n",
       "    </tr>\n",
       "    <tr>\n",
       "      <th>15</th>\n",
       "      <td>Netflix’s first Arabic film production remains...</td>\n",
       "      <td>Art</td>\n",
       "    </tr>\n",
       "    <tr>\n",
       "      <th>16</th>\n",
       "      <td>Disney+ to launch in Egypt this summer\\n\\n\\n\\n...</td>\n",
       "      <td>Art</td>\n",
       "    </tr>\n",
       "    <tr>\n",
       "      <th>17</th>\n",
       "      <td>China gives 'Fight Club' new ending where auth...</td>\n",
       "      <td>Art</td>\n",
       "    </tr>\n",
       "    <tr>\n",
       "      <th>18</th>\n",
       "      <td>Egypt’s Actors’ Syndicate defends Mona Zaki as...</td>\n",
       "      <td>Art</td>\n",
       "    </tr>\n",
       "    <tr>\n",
       "      <th>19</th>\n",
       "      <td>Netflix's first Arabic film Perfect Strangers ...</td>\n",
       "      <td>Art</td>\n",
       "    </tr>\n",
       "  </tbody>\n",
       "</table>\n",
       "</div>"
      ],
      "text/plain": [
       "                                        Article Title Category\n",
       "0   Aroma Studios reveal poster of Ramadan TV seri...      Art\n",
       "1   Netflix to launch new Arabic production with E...      Art\n",
       "2   'Dark Shadows,' 'Lethal Weapon' actor Mitchell...      Art\n",
       "3   INTERVIEW: Greek architect Tilemachos Andriano...      Art\n",
       "4   Egypt’s streaming platform Watchit reveals con...      Art\n",
       "5   'CODA' takes top honors at SAG Awards, Will Sm...      Art\n",
       "6   Egyptian megastar Amr Diab announces Anghami a...      Art\n",
       "7   Fans surprised as Egyptian pop icon Amr Diab r...      Art\n",
       "8   Scottish actor Gerard Butler enjoys vacation i...      Art\n",
       "9   Hend Sabry’s Finding Ola continues to soar amo...      Art\n",
       "10  Egypt’s new talent show El-Dome kicks-off with...      Art\n",
       "11  Rogan dispute draws Spotify into content liabi...      Art\n",
       "12  Original 'Fight Club' ending restored in China...      Art\n",
       "13  Hend Sabry’s TV series ‘Finding Ola’ top trend...      Art\n",
       "14  Spotify to link virus content to Covid facts a...      Art\n",
       "15  Netflix’s first Arabic film production remains...      Art\n",
       "16  Disney+ to launch in Egypt this summer\\n\\n\\n\\n...      Art\n",
       "17  China gives 'Fight Club' new ending where auth...      Art\n",
       "18  Egypt’s Actors’ Syndicate defends Mona Zaki as...      Art\n",
       "19  Netflix's first Arabic film Perfect Strangers ...      Art"
      ]
     },
     "execution_count": 243,
     "metadata": {},
     "output_type": "execute_result"
    }
   ],
   "source": [
    "Articles_Scraper = pd.DataFrame(\n",
    "    {\n",
    "     'Article Title': article_title,\n",
    "    })\n",
    "\n",
    "#Articles_Scraper['Article content'].str.strip()\n",
    "Articles_Scraper['Article Title'] = Articles_Scraper['Article Title'].str[2:]\n",
    "Articles_Scraper['Category']='Art'\n",
    "Articles_Scraper"
   ]
  },
  {
   "cell_type": "code",
   "execution_count": 244,
   "metadata": {},
   "outputs": [],
   "source": [
    "Articles_Scraper.to_csv('magic.csv')"
   ]
  },
  {
   "cell_type": "code",
   "execution_count": 206,
   "metadata": {},
   "outputs": [
    {
     "data": {
      "text/plain": [
       "(640, 2)"
      ]
     },
     "execution_count": 206,
     "metadata": {},
     "output_type": "execute_result"
    }
   ],
   "source": [
    "df2= pd.read_csv('ACCident_Articles320.csv')\n",
    "df3= pd.read_csv('ACCident_Articles340.csv')\n",
    "df4= pd.read_csv('ACCident_Articles360.csv')\n",
    "df5= pd.read_csv('ACCident_Articles380.csv')\n",
    "df6= pd.read_csv('ACCident_Articles400.csv')\n",
    "df7= pd.read_csv('ACCident_Articles420.csv')\n",
    "df8= pd.read_csv('ACCident_Articles440.csv')\n",
    "df9= pd.read_csv('ACCident_Articles460.csv')\n",
    "df10= pd.read_csv('ACCident_Articles480.csv')\n",
    "df11= pd.read_csv('ACCident_Articles500.csv')\n",
    "df12= pd.read_csv('ACCident_Articles520.csv')\n",
    "df13= pd.read_csv('ACCident_Articles540.csv')\n",
    "df14= pd.read_csv('ACCident_Articles560.csv')\n",
    "df15= pd.read_csv('ACCident_Articles580.csv')\n",
    "df16= pd.read_csv('ACCident_Articles600.csv')\n",
    "df1= pd.read_csv('ACCident_Articles620.csv')\n",
    "final= pd.read_csv('Final_df.csv')\n",
    "\n",
    "Final_df = pd.concat([df1, df2 , df3 , df4 , df5 , df6 , df7 , df8, df9, df10, df11, df12, df13, df14, df15, df16,final], ignore_index=True)\n",
    "Final_df = Final_df.drop(columns=['Unnamed: 0'])\n",
    "Final_df.rename(columns={'Atricle Source': 'Atricle Category'}, inplace=True)\n",
    "\n",
    "Final_df.shape"
   ]
  },
  {
   "cell_type": "code",
   "execution_count": 207,
   "metadata": {},
   "outputs": [],
   "source": [
    "Final_df.to_csv('Final_df.csv')"
   ]
  },
  {
   "cell_type": "code",
   "execution_count": 208,
   "metadata": {},
   "outputs": [
    {
     "data": {
      "text/html": [
       "<div>\n",
       "<style scoped>\n",
       "    .dataframe tbody tr th:only-of-type {\n",
       "        vertical-align: middle;\n",
       "    }\n",
       "\n",
       "    .dataframe tbody tr th {\n",
       "        vertical-align: top;\n",
       "    }\n",
       "\n",
       "    .dataframe thead th {\n",
       "        text-align: right;\n",
       "    }\n",
       "</style>\n",
       "<table border=\"1\" class=\"dataframe\">\n",
       "  <thead>\n",
       "    <tr style=\"text-align: right;\">\n",
       "      <th></th>\n",
       "      <th>Article Title</th>\n",
       "      <th>Category</th>\n",
       "    </tr>\n",
       "  </thead>\n",
       "  <tbody>\n",
       "    <tr>\n",
       "      <th>0</th>\n",
       "      <td>Arsenal beats Southampton 3-0 without dropped ...</td>\n",
       "      <td>sports</td>\n",
       "    </tr>\n",
       "    <tr>\n",
       "      <th>1</th>\n",
       "      <td>Bayern down Mainz to go six points clear in th...</td>\n",
       "      <td>sports</td>\n",
       "    </tr>\n",
       "    <tr>\n",
       "      <th>2</th>\n",
       "      <td>Sterling's penalty gives Man City 1-0 win over...</td>\n",
       "      <td>sports</td>\n",
       "    </tr>\n",
       "    <tr>\n",
       "      <th>3</th>\n",
       "      <td>Indian police hold man for stealing Maradona's...</td>\n",
       "      <td>sports</td>\n",
       "    </tr>\n",
       "    <tr>\n",
       "      <th>4</th>\n",
       "      <td>UEFA cancels Covid-postponed Tottenham v Renne...</td>\n",
       "      <td>sports</td>\n",
       "    </tr>\n",
       "    <tr>\n",
       "      <th>...</th>\n",
       "      <td>...</td>\n",
       "      <td>...</td>\n",
       "    </tr>\n",
       "    <tr>\n",
       "      <th>635</th>\n",
       "      <td>Germany Bundesliga results &amp; scorers (21st mat...</td>\n",
       "      <td>sports</td>\n",
       "    </tr>\n",
       "    <tr>\n",
       "      <th>636</th>\n",
       "      <td>Barcelona go fourth after winning six-goal thr...</td>\n",
       "      <td>sports</td>\n",
       "    </tr>\n",
       "    <tr>\n",
       "      <th>637</th>\n",
       "      <td>Dortmund humiliated by Leverkusen in Haaland's...</td>\n",
       "      <td>sports</td>\n",
       "    </tr>\n",
       "    <tr>\n",
       "      <th>638</th>\n",
       "      <td>Back from injury, 1st Liverpool goal for teen ...</td>\n",
       "      <td>sports</td>\n",
       "    </tr>\n",
       "    <tr>\n",
       "      <th>639</th>\n",
       "      <td>Manchester City, Chelsea, Spurs get favourable...</td>\n",
       "      <td>sports</td>\n",
       "    </tr>\n",
       "  </tbody>\n",
       "</table>\n",
       "<p>640 rows × 2 columns</p>\n",
       "</div>"
      ],
      "text/plain": [
       "                                         Article Title Category\n",
       "0    Arsenal beats Southampton 3-0 without dropped ...   sports\n",
       "1    Bayern down Mainz to go six points clear in th...   sports\n",
       "2    Sterling's penalty gives Man City 1-0 win over...   sports\n",
       "3    Indian police hold man for stealing Maradona's...   sports\n",
       "4    UEFA cancels Covid-postponed Tottenham v Renne...   sports\n",
       "..                                                 ...      ...\n",
       "635  Germany Bundesliga results & scorers (21st mat...   sports\n",
       "636  Barcelona go fourth after winning six-goal thr...   sports\n",
       "637  Dortmund humiliated by Leverkusen in Haaland's...   sports\n",
       "638  Back from injury, 1st Liverpool goal for teen ...   sports\n",
       "639  Manchester City, Chelsea, Spurs get favourable...   sports\n",
       "\n",
       "[640 rows x 2 columns]"
      ]
     },
     "execution_count": 208,
     "metadata": {},
     "output_type": "execute_result"
    }
   ],
   "source": [
    "Final_df"
   ]
  },
  {
   "cell_type": "code",
   "execution_count": null,
   "metadata": {},
   "outputs": [],
   "source": []
  }
 ],
 "metadata": {
  "kernelspec": {
   "display_name": "Python 3",
   "language": "python",
   "name": "python3"
  },
  "language_info": {
   "codemirror_mode": {
    "name": "ipython",
    "version": 3
   },
   "file_extension": ".py",
   "mimetype": "text/x-python",
   "name": "python",
   "nbconvert_exporter": "python",
   "pygments_lexer": "ipython3",
   "version": "3.8.5"
  }
 },
 "nbformat": 4,
 "nbformat_minor": 4
}
