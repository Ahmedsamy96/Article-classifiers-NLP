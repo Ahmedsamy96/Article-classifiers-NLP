{
 "cells": [
  {
   "cell_type": "code",
   "execution_count": 1,
   "metadata": {},
   "outputs": [],
   "source": [
    "import pandas as pd\n",
    "import numpy as np\n",
    "import matplotlib.pyplot as plt"
   ]
  },
  {
   "cell_type": "markdown",
   "metadata": {},
   "source": [
    "# At first of this process, we have 3 csv files each is about 10000 records.\n",
    "1. Concat them into one cdv file.\n",
    "2. drop dublicates if found.\n",
    "3. remove spaces in the text."
   ]
  },
  {
   "cell_type": "code",
   "execution_count": 2,
   "metadata": {},
   "outputs": [
    {
     "name": "stdout",
     "output_type": "stream",
     "text": [
      "(30437, 2)\n"
     ]
    },
    {
     "data": {
      "text/html": [
       "<div>\n",
       "<style scoped>\n",
       "    .dataframe tbody tr th:only-of-type {\n",
       "        vertical-align: middle;\n",
       "    }\n",
       "\n",
       "    .dataframe tbody tr th {\n",
       "        vertical-align: top;\n",
       "    }\n",
       "\n",
       "    .dataframe thead th {\n",
       "        text-align: right;\n",
       "    }\n",
       "</style>\n",
       "<table border=\"1\" class=\"dataframe\">\n",
       "  <thead>\n",
       "    <tr style=\"text-align: right;\">\n",
       "      <th></th>\n",
       "      <th>Article Title</th>\n",
       "      <th>Category</th>\n",
       "    </tr>\n",
       "  </thead>\n",
       "  <tbody>\n",
       "    <tr>\n",
       "      <th>0</th>\n",
       "      <td>\\n\\nWorks by Picasso and others stolen in Spai...</td>\n",
       "      <td>Art</td>\n",
       "    </tr>\n",
       "    <tr>\n",
       "      <th>1</th>\n",
       "      <td>\\n\\nSalwa and Maged at the Art Corner Gallery ...</td>\n",
       "      <td>Art</td>\n",
       "    </tr>\n",
       "    <tr>\n",
       "      <th>2</th>\n",
       "      <td>\\n\\nA tribute to Abdalla Gohar\\n\\n\\n\\nOn 1 Dec...</td>\n",
       "      <td>Art</td>\n",
       "    </tr>\n",
       "    <tr>\n",
       "      <th>3</th>\n",
       "      <td>\\n\\nRaw, untamed, and compelling: ‘Flesh’ by S...</td>\n",
       "      <td>Art</td>\n",
       "    </tr>\n",
       "    <tr>\n",
       "      <th>4</th>\n",
       "      <td>\\n\\nFrom water to mosaics\\n\\n\\n\\nThe Gezira Ce...</td>\n",
       "      <td>Art</td>\n",
       "    </tr>\n",
       "  </tbody>\n",
       "</table>\n",
       "</div>"
      ],
      "text/plain": [
       "                                       Article Title Category\n",
       "0  \\n\\nWorks by Picasso and others stolen in Spai...      Art\n",
       "1  \\n\\nSalwa and Maged at the Art Corner Gallery ...      Art\n",
       "2  \\n\\nA tribute to Abdalla Gohar\\n\\n\\n\\nOn 1 Dec...      Art\n",
       "3  \\n\\nRaw, untamed, and compelling: ‘Flesh’ by S...      Art\n",
       "4  \\n\\nFrom water to mosaics\\n\\n\\n\\nThe Gezira Ce...      Art"
      ]
     },
     "execution_count": 2,
     "metadata": {},
     "output_type": "execute_result"
    }
   ],
   "source": [
    "# concatinating three files\n",
    "art= pd.read_csv('Art.csv')\n",
    "economy= pd.read_csv('Economy.csv')\n",
    "sports= pd.read_csv('Sports.csv')\n",
    "\n",
    "df = pd.concat([art,economy,sports]).drop(columns=['Unnamed: 0'])\n",
    "print(df.shape)\n",
    "df.head()"
   ]
  },
  {
   "cell_type": "code",
   "execution_count": 3,
   "metadata": {},
   "outputs": [
    {
     "data": {
      "text/html": [
       "<div>\n",
       "<style scoped>\n",
       "    .dataframe tbody tr th:only-of-type {\n",
       "        vertical-align: middle;\n",
       "    }\n",
       "\n",
       "    .dataframe tbody tr th {\n",
       "        vertical-align: top;\n",
       "    }\n",
       "\n",
       "    .dataframe thead th {\n",
       "        text-align: right;\n",
       "    }\n",
       "</style>\n",
       "<table border=\"1\" class=\"dataframe\">\n",
       "  <thead>\n",
       "    <tr style=\"text-align: right;\">\n",
       "      <th></th>\n",
       "      <th>Article Title</th>\n",
       "      <th>Category</th>\n",
       "    </tr>\n",
       "  </thead>\n",
       "  <tbody>\n",
       "    <tr>\n",
       "      <th>0</th>\n",
       "      <td>Works by Picasso and others stolen in Spain \\n...</td>\n",
       "      <td>Art</td>\n",
       "    </tr>\n",
       "    <tr>\n",
       "      <th>1</th>\n",
       "      <td>Salwa and Maged at the Art Corner Gallery \\n\\n...</td>\n",
       "      <td>Art</td>\n",
       "    </tr>\n",
       "    <tr>\n",
       "      <th>2</th>\n",
       "      <td>A tribute to Abdalla Gohar\\n\\n\\n\\nOn 1 Decembe...</td>\n",
       "      <td>Art</td>\n",
       "    </tr>\n",
       "    <tr>\n",
       "      <th>3</th>\n",
       "      <td>Raw, untamed, and compelling: ‘Flesh’ by Samir...</td>\n",
       "      <td>Art</td>\n",
       "    </tr>\n",
       "    <tr>\n",
       "      <th>4</th>\n",
       "      <td>From water to mosaics\\n\\n\\n\\nThe Gezira Centre...</td>\n",
       "      <td>Art</td>\n",
       "    </tr>\n",
       "    <tr>\n",
       "      <th>...</th>\n",
       "      <td>...</td>\n",
       "      <td>...</td>\n",
       "    </tr>\n",
       "    <tr>\n",
       "      <th>30432</th>\n",
       "      <td>Germany Bundesliga results &amp; scorers (21st mat...</td>\n",
       "      <td>sports</td>\n",
       "    </tr>\n",
       "    <tr>\n",
       "      <th>30433</th>\n",
       "      <td>Barcelona go fourth after winning six-goal thr...</td>\n",
       "      <td>sports</td>\n",
       "    </tr>\n",
       "    <tr>\n",
       "      <th>30434</th>\n",
       "      <td>Dortmund humiliated by Leverkusen in Haaland's...</td>\n",
       "      <td>sports</td>\n",
       "    </tr>\n",
       "    <tr>\n",
       "      <th>30435</th>\n",
       "      <td>Back from injury, 1st Liverpool goal for teen ...</td>\n",
       "      <td>sports</td>\n",
       "    </tr>\n",
       "    <tr>\n",
       "      <th>30436</th>\n",
       "      <td>Manchester City, Chelsea, Spurs get favourable...</td>\n",
       "      <td>sports</td>\n",
       "    </tr>\n",
       "  </tbody>\n",
       "</table>\n",
       "<p>30437 rows × 2 columns</p>\n",
       "</div>"
      ],
      "text/plain": [
       "                                           Article Title Category\n",
       "0      Works by Picasso and others stolen in Spain \\n...      Art\n",
       "1      Salwa and Maged at the Art Corner Gallery \\n\\n...      Art\n",
       "2      A tribute to Abdalla Gohar\\n\\n\\n\\nOn 1 Decembe...      Art\n",
       "3      Raw, untamed, and compelling: ‘Flesh’ by Samir...      Art\n",
       "4      From water to mosaics\\n\\n\\n\\nThe Gezira Centre...      Art\n",
       "...                                                  ...      ...\n",
       "30432  Germany Bundesliga results & scorers (21st mat...   sports\n",
       "30433  Barcelona go fourth after winning six-goal thr...   sports\n",
       "30434  Dortmund humiliated by Leverkusen in Haaland's...   sports\n",
       "30435  Back from injury, 1st Liverpool goal for teen ...   sports\n",
       "30436  Manchester City, Chelsea, Spurs get favourable...   sports\n",
       "\n",
       "[30437 rows x 2 columns]"
      ]
     },
     "execution_count": 3,
     "metadata": {},
     "output_type": "execute_result"
    }
   ],
   "source": [
    "df['Article Title']=df['Article Title'].str.strip()\n",
    "df =df.reset_index(drop=True)\n",
    "df = df[['Article Title','Category']]\n",
    "df"
   ]
  },
  {
   "cell_type": "code",
   "execution_count": 4,
   "metadata": {},
   "outputs": [
    {
     "data": {
      "text/plain": [
       "pandas.core.frame.DataFrame"
      ]
     },
     "execution_count": 4,
     "metadata": {},
     "output_type": "execute_result"
    }
   ],
   "source": [
    "type(df)"
   ]
  },
  {
   "cell_type": "code",
   "execution_count": 5,
   "metadata": {},
   "outputs": [],
   "source": [
    "df.drop_duplicates()\n",
    "df = df.replace('\\n',' ', regex=True)\n",
    "df.to_csv('final_clean_df.csv')"
   ]
  },
  {
   "cell_type": "code",
   "execution_count": null,
   "metadata": {},
   "outputs": [],
   "source": []
  }
 ],
 "metadata": {
  "kernelspec": {
   "display_name": "Python 3",
   "language": "python",
   "name": "python3"
  },
  "language_info": {
   "codemirror_mode": {
    "name": "ipython",
    "version": 3
   },
   "file_extension": ".py",
   "mimetype": "text/x-python",
   "name": "python",
   "nbconvert_exporter": "python",
   "pygments_lexer": "ipython3",
   "version": "3.8.5"
  }
 },
 "nbformat": 4,
 "nbformat_minor": 4
}
